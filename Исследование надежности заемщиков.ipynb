{
 "cells": [
  {
   "cell_type": "markdown",
   "id": "512e05d5",
   "metadata": {
    "deletable": false,
    "editable": false,
    "id": "c81daeeb"
   },
   "source": [
    "# Исследование надежности заемщиков"
   ]
  },
  {
   "cell_type": "markdown",
   "id": "2029995d",
   "metadata": {
    "deletable": false,
    "editable": false,
    "id": "-G3EJWzf62s6"
   },
   "source": [
    "Это первая часть проекта, она будет проверена автоматически. Вторую часть проверит ревьюер. "
   ]
  },
  {
   "cell_type": "markdown",
   "id": "4cfd5182",
   "metadata": {
    "deletable": false,
    "editable": false,
    "id": "744d7639"
   },
   "source": [
    "## Откройте таблицу и изучите общую информацию о данных"
   ]
  },
  {
   "cell_type": "markdown",
   "id": "14ab554f",
   "metadata": {
    "deletable": false,
    "editable": false,
    "id": "e7a14c31",
    "tags": [
     "start_task"
    ]
   },
   "source": [
    "**Задание 1. Импортируйте библиотеку pandas. Считайте данные из csv-файла в датафрейм и сохраните в переменную `data`. Путь к файлу:**\n",
    "\n",
    "`/datasets/data.csv`"
   ]
  },
  {
   "cell_type": "code",
   "execution_count": 50,
   "id": "28b7d578",
   "metadata": {
    "id": "7bcf75c9"
   },
   "outputs": [],
   "source": [
    "import pandas as pd # импортируйте библиотеку pandas"
   ]
  },
  {
   "cell_type": "code",
   "execution_count": 51,
   "id": "ba81ab7f",
   "metadata": {
    "id": "4d240ee2"
   },
   "outputs": [],
   "source": [
    "data = pd.read_csv('/datasets/data.csv')# прочитайте csv-файл"
   ]
  },
  {
   "cell_type": "markdown",
   "id": "94e2afaf",
   "metadata": {
    "deletable": false,
    "editable": false,
    "id": "b8038fe3",
    "tags": [
     "start_task"
    ]
   },
   "source": [
    "**Задание 2. Выведите первые 20 строчек датафрейма `data` на экран.**"
   ]
  },
  {
   "cell_type": "code",
   "execution_count": 52,
   "id": "cbbc2914",
   "metadata": {
    "id": "2a7cab99"
   },
   "outputs": [
    {
     "name": "stdout",
     "output_type": "stream",
     "text": [
      "    children  days_employed  dob_years            education  education_id  \\\n",
      "0          1   -8437.673028         42               высшее             0   \n",
      "1          1   -4024.803754         36              среднее             1   \n",
      "2          0   -5623.422610         33              Среднее             1   \n",
      "3          3   -4124.747207         32              среднее             1   \n",
      "4          0  340266.072047         53              среднее             1   \n",
      "5          0    -926.185831         27               высшее             0   \n",
      "6          0   -2879.202052         43               высшее             0   \n",
      "7          0    -152.779569         50              СРЕДНЕЕ             1   \n",
      "8          2   -6929.865299         35               ВЫСШЕЕ             0   \n",
      "9          0   -2188.756445         41              среднее             1   \n",
      "10         2   -4171.483647         36               высшее             0   \n",
      "11         0    -792.701887         40              среднее             1   \n",
      "12         0            NaN         65              среднее             1   \n",
      "13         0   -1846.641941         54  неоконченное высшее             2   \n",
      "14         0   -1844.956182         56               высшее             0   \n",
      "15         1    -972.364419         26              среднее             1   \n",
      "16         0   -1719.934226         35              среднее             1   \n",
      "17         0   -2369.999720         33               высшее             0   \n",
      "18         0  400281.136913         53              среднее             1   \n",
      "19         0  -10038.818549         48              СРЕДНЕЕ             1   \n",
      "\n",
      "       family_status  family_status_id gender income_type  debt  \\\n",
      "0    женат / замужем                 0      F   сотрудник     0   \n",
      "1    женат / замужем                 0      F   сотрудник     0   \n",
      "2    женат / замужем                 0      M   сотрудник     0   \n",
      "3    женат / замужем                 0      M   сотрудник     0   \n",
      "4   гражданский брак                 1      F   пенсионер     0   \n",
      "5   гражданский брак                 1      M   компаньон     0   \n",
      "6    женат / замужем                 0      F   компаньон     0   \n",
      "7    женат / замужем                 0      M   сотрудник     0   \n",
      "8   гражданский брак                 1      F   сотрудник     0   \n",
      "9    женат / замужем                 0      M   сотрудник     0   \n",
      "10   женат / замужем                 0      M   компаньон     0   \n",
      "11   женат / замужем                 0      F   сотрудник     0   \n",
      "12  гражданский брак                 1      M   пенсионер     0   \n",
      "13   женат / замужем                 0      F   сотрудник     0   \n",
      "14  гражданский брак                 1      F   компаньон     1   \n",
      "15   женат / замужем                 0      F   сотрудник     0   \n",
      "16   женат / замужем                 0      F   сотрудник     0   \n",
      "17  гражданский брак                 1      M   сотрудник     0   \n",
      "18    вдовец / вдова                 2      F   пенсионер     0   \n",
      "19         в разводе                 3      F   сотрудник     0   \n",
      "\n",
      "     total_income                                 purpose  \n",
      "0   253875.639453                           покупка жилья  \n",
      "1   112080.014102                 приобретение автомобиля  \n",
      "2   145885.952297                           покупка жилья  \n",
      "3   267628.550329              дополнительное образование  \n",
      "4   158616.077870                         сыграть свадьбу  \n",
      "5   255763.565419                           покупка жилья  \n",
      "6   240525.971920                       операции с жильем  \n",
      "7   135823.934197                             образование  \n",
      "8    95856.832424                   на проведение свадьбы  \n",
      "9   144425.938277                 покупка жилья для семьи  \n",
      "10  113943.491460                    покупка недвижимости  \n",
      "11   77069.234271       покупка коммерческой недвижимости  \n",
      "12            NaN                         сыграть свадьбу  \n",
      "13  130458.228857                 приобретение автомобиля  \n",
      "14  165127.911772              покупка жилой недвижимости  \n",
      "15  116820.904450  строительство собственной недвижимости  \n",
      "16  289202.704229                            недвижимость  \n",
      "17   90410.586745              строительство недвижимости  \n",
      "18   56823.777243      на покупку подержанного автомобиля  \n",
      "19  242831.107982            на покупку своего автомобиля  \n"
     ]
    }
   ],
   "source": [
    "print(data.head(20))# ваш код здесь"
   ]
  },
  {
   "cell_type": "markdown",
   "id": "02030c5d",
   "metadata": {
    "deletable": false,
    "editable": false,
    "id": "1c12e233",
    "tags": [
     "start_task"
    ]
   },
   "source": [
    "**Задание 3. Выведите основную информацию о датафрейме с помощью метода `info()`.**"
   ]
  },
  {
   "cell_type": "code",
   "execution_count": 53,
   "id": "d1ca9237",
   "metadata": {
    "id": "2b757bca"
   },
   "outputs": [
    {
     "name": "stdout",
     "output_type": "stream",
     "text": [
      "<class 'pandas.core.frame.DataFrame'>\n",
      "RangeIndex: 21525 entries, 0 to 21524\n",
      "Data columns (total 12 columns):\n",
      " #   Column            Non-Null Count  Dtype  \n",
      "---  ------            --------------  -----  \n",
      " 0   children          21525 non-null  int64  \n",
      " 1   days_employed     19351 non-null  float64\n",
      " 2   dob_years         21525 non-null  int64  \n",
      " 3   education         21525 non-null  object \n",
      " 4   education_id      21525 non-null  int64  \n",
      " 5   family_status     21525 non-null  object \n",
      " 6   family_status_id  21525 non-null  int64  \n",
      " 7   gender            21525 non-null  object \n",
      " 8   income_type       21525 non-null  object \n",
      " 9   debt              21525 non-null  int64  \n",
      " 10  total_income      19351 non-null  float64\n",
      " 11  purpose           21525 non-null  object \n",
      "dtypes: float64(2), int64(5), object(5)\n",
      "memory usage: 2.0+ MB\n"
     ]
    }
   ],
   "source": [
    "data.info()# ваш код здесь"
   ]
  },
  {
   "cell_type": "markdown",
   "id": "76d95618",
   "metadata": {
    "deletable": false,
    "editable": false,
    "id": "333ec665"
   },
   "source": [
    "## Предобработка данных"
   ]
  },
  {
   "cell_type": "markdown",
   "id": "b7778249",
   "metadata": {
    "deletable": false,
    "editable": false,
    "id": "02d92d53"
   },
   "source": [
    "### Удаление пропусков"
   ]
  },
  {
   "cell_type": "markdown",
   "id": "15d27397",
   "metadata": {
    "deletable": false,
    "editable": false,
    "id": "cd84967c",
    "tags": [
     "start_task"
    ]
   },
   "source": [
    "**Задание 4. Выведите количество пропущенных значений для каждого столбца. Используйте комбинацию двух методов.**"
   ]
  },
  {
   "cell_type": "code",
   "execution_count": 54,
   "id": "bc0a034d",
   "metadata": {
    "id": "7f9b2309"
   },
   "outputs": [
    {
     "name": "stdout",
     "output_type": "stream",
     "text": [
      "children               0\n",
      "days_employed       2174\n",
      "dob_years              0\n",
      "education              0\n",
      "education_id           0\n",
      "family_status          0\n",
      "family_status_id       0\n",
      "gender                 0\n",
      "income_type            0\n",
      "debt                   0\n",
      "total_income        2174\n",
      "purpose                0\n",
      "dtype: int64\n"
     ]
    }
   ],
   "source": [
    "print(data.isna().sum())# ваш код здесь"
   ]
  },
  {
   "cell_type": "markdown",
   "id": "bfd0db67",
   "metadata": {
    "deletable": false,
    "editable": false,
    "id": "db86e27b",
    "tags": [
     "start_task"
    ]
   },
   "source": [
    "**Задание 5. В двух столбцах есть пропущенные значения. Один из них — `days_employed`. Пропуски в этом столбце вы обработаете на следующем этапе. Другой столбец с пропущенными значениями — `total_income` — хранит данные о доходах. На сумму дохода сильнее всего влияет тип занятости, поэтому заполнить пропуски в этом столбце нужно медианным значением по каждому типу из столбца `income_type`. Например, у человека с типом занятости `сотрудник` пропуск в столбце `total_income` должен быть заполнен медианным доходом среди всех записей с тем же типом.**"
   ]
  },
  {
   "cell_type": "code",
   "execution_count": 55,
   "id": "5f0c8e49",
   "metadata": {
    "id": "42006a93"
   },
   "outputs": [],
   "source": [
    "for x in data['income_type'].unique(): \n",
    "    data.loc[(data['income_type'] == x)&(data['total_income'].isna()),'total_income'] = \\\n",
    "    data.loc[(data['income_type'] == x), 'total_income'].median() # Находим медиану,в зависимости от типов занятости сотрудников и заполняем ею пропуски в столбце total_income"
   ]
  },
  {
   "cell_type": "markdown",
   "id": "48b922ac",
   "metadata": {
    "deletable": false,
    "editable": false,
    "id": "89da5ece"
   },
   "source": [
    "### Обработка аномальных значений"
   ]
  },
  {
   "cell_type": "markdown",
   "id": "9422ff5b",
   "metadata": {
    "deletable": false,
    "editable": false,
    "id": "57964554",
    "tags": [
     "start_task"
    ]
   },
   "source": [
    "**Задание 6. В данных могут встречаться артефакты (аномалии) — значения, которые не отражают действительность и появились по какой-то ошибке. Таким артефактом будет отрицательное количество дней трудового стажа в столбце `days_employed`. Для реальных данных это нормально. Обработайте значения в этом столбце: замените все отрицательные значения положительными с помощью метода `abs()`.**"
   ]
  },
  {
   "cell_type": "code",
   "execution_count": 56,
   "id": "b953ae91",
   "metadata": {
    "id": "f6f055bf"
   },
   "outputs": [],
   "source": [
    "data ['days_employed'] = data['days_employed'].abs() # заменяем отрицательные значения столбца days_employed на положительные"
   ]
  },
  {
   "cell_type": "markdown",
   "id": "fbd39a10",
   "metadata": {
    "deletable": false,
    "editable": false,
    "id": "6107dd2f",
    "tags": [
     "start_task"
    ]
   },
   "source": [
    "**Задание 7. Для каждого типа занятости выведите медианное значение трудового стажа `days_employed` в днях.**"
   ]
  },
  {
   "cell_type": "code",
   "execution_count": 57,
   "id": "6472a9d3",
   "metadata": {
    "id": "85a5faf6"
   },
   "outputs": [
    {
     "name": "stdout",
     "output_type": "stream",
     "text": [
      "income_type\n",
      "безработный        366413.652744\n",
      "в декрете            3296.759962\n",
      "госслужащий          2689.368353\n",
      "компаньон            1547.382223\n",
      "пенсионер          365213.306266\n",
      "предприниматель       520.848083\n",
      "сотрудник            1574.202821\n",
      "студент               578.751554\n",
      "Name: days_employed, dtype: float64\n"
     ]
    }
   ],
   "source": [
    "print(data.groupby('income_type')['days_employed'].median()) # рассчитываем ср кол-во трудового стажа в днях для каждого типа занятости"
   ]
  },
  {
   "cell_type": "markdown",
   "id": "4158179f",
   "metadata": {
    "deletable": false,
    "editable": false,
    "id": "38d1a030"
   },
   "source": [
    "У двух типов (безработные и пенсионеры) получатся аномально большие значения. Исправить такие значения сложно, поэтому оставьте их как есть. Тем более этот столбец не понадобится вам для исследования."
   ]
  },
  {
   "cell_type": "markdown",
   "id": "9b20f87e",
   "metadata": {
    "deletable": false,
    "editable": false,
    "id": "d8a9f147",
    "tags": [
     "start_task"
    ]
   },
   "source": [
    "**Задание 8. Выведите перечень уникальных значений столбца `children`.**"
   ]
  },
  {
   "cell_type": "code",
   "execution_count": 58,
   "id": "9e27f030",
   "metadata": {
    "id": "ef5056eb"
   },
   "outputs": [
    {
     "name": "stdout",
     "output_type": "stream",
     "text": [
      "[ 1  0  3  2 -1  4 20  5]\n"
     ]
    }
   ],
   "source": [
    "print(data['children'].unique())# ваш код здесь"
   ]
  },
  {
   "cell_type": "markdown",
   "id": "cc5fe1da",
   "metadata": {
    "deletable": false,
    "editable": false,
    "id": "40b9ebf2",
    "tags": [
     "start_task"
    ]
   },
   "source": [
    "**Задание 9. В столбце `children` есть два аномальных значения. Удалите строки, в которых встречаются такие аномальные значения из датафрейма `data`.**"
   ]
  },
  {
   "cell_type": "code",
   "execution_count": 59,
   "id": "9f42803b",
   "metadata": {
    "id": "3ff9801d"
   },
   "outputs": [],
   "source": [
    "data = data[(data['children'] != -1)&(data['children'] != 20)]# ваш код здесь"
   ]
  },
  {
   "cell_type": "markdown",
   "id": "f324c946",
   "metadata": {
    "deletable": false,
    "editable": false,
    "id": "bbc4d0ce",
    "tags": [
     "start_task"
    ]
   },
   "source": [
    "**Задание 10. Ещё раз выведите перечень уникальных значений столбца `children`, чтобы убедиться, что артефакты удалены.**"
   ]
  },
  {
   "cell_type": "code",
   "execution_count": 60,
   "id": "df758b5e",
   "metadata": {
    "id": "ad4fa8b7"
   },
   "outputs": [
    {
     "name": "stdout",
     "output_type": "stream",
     "text": [
      "[1 0 3 2 4 5]\n"
     ]
    }
   ],
   "source": [
    "print(data['children'].unique())# ваш код здесь"
   ]
  },
  {
   "cell_type": "markdown",
   "id": "d9375a3d",
   "metadata": {
    "deletable": false,
    "editable": false,
    "id": "75440b63"
   },
   "source": [
    "### Удаление пропусков (продолжение)"
   ]
  },
  {
   "cell_type": "markdown",
   "id": "27ef0011",
   "metadata": {
    "deletable": false,
    "editable": false,
    "id": "f4ea573f",
    "tags": [
     "start_task"
    ]
   },
   "source": [
    "**Задание 11. Заполните пропуски в столбце `days_employed` медианными значениями по каждому типу занятости `income_type`.**"
   ]
  },
  {
   "cell_type": "code",
   "execution_count": 61,
   "id": "45b96fbd",
   "metadata": {
    "id": "af6b1a7e"
   },
   "outputs": [],
   "source": [
    "for n in data['income_type'].unique(): \n",
    "    data.loc[(data['income_type'] == n)&(data['days_employed'].isna()),'days_employed'] = \\\n",
    "    data.loc[(data['income_type'] == n), 'days_employed'].median()# ваш код здесь"
   ]
  },
  {
   "cell_type": "markdown",
   "id": "03aa7c3f",
   "metadata": {
    "deletable": false,
    "editable": false,
    "id": "2753f40d",
    "tags": [
     "start_task"
    ]
   },
   "source": [
    "**Задание 12. Убедитесь, что все пропуски заполнены. Проверьте себя и ещё раз выведите количество пропущенных значений для каждого столбца с помощью двух методов.**"
   ]
  },
  {
   "cell_type": "code",
   "execution_count": 62,
   "id": "259ce6a6",
   "metadata": {
    "id": "55f78bc2"
   },
   "outputs": [
    {
     "name": "stdout",
     "output_type": "stream",
     "text": [
      "children            0\n",
      "days_employed       0\n",
      "dob_years           0\n",
      "education           0\n",
      "education_id        0\n",
      "family_status       0\n",
      "family_status_id    0\n",
      "gender              0\n",
      "income_type         0\n",
      "debt                0\n",
      "total_income        0\n",
      "purpose             0\n",
      "dtype: int64\n"
     ]
    }
   ],
   "source": [
    "print(data.isna().sum())# ваш код здесь"
   ]
  },
  {
   "cell_type": "markdown",
   "id": "a01e9af5",
   "metadata": {
    "deletable": false,
    "editable": false,
    "id": "ddc81e43"
   },
   "source": [
    "### Изменение типов данных"
   ]
  },
  {
   "cell_type": "markdown",
   "id": "92938668",
   "metadata": {
    "deletable": false,
    "editable": false,
    "id": "42d19d24",
    "tags": [
     "start_task"
    ]
   },
   "source": [
    "**Задание 13. Замените вещественный тип данных в столбце `total_income` на целочисленный с помощью метода `astype()`.**"
   ]
  },
  {
   "cell_type": "code",
   "execution_count": 63,
   "id": "f0726fb4",
   "metadata": {
    "id": "920b65ad"
   },
   "outputs": [],
   "source": [
    "data['total_income'] = data['total_income'].astype(int)# ваш код здесь"
   ]
  },
  {
   "cell_type": "markdown",
   "id": "dfda7a3b",
   "metadata": {
    "deletable": false,
    "editable": false,
    "id": "80c420ba"
   },
   "source": [
    "### Обработка дубликатов"
   ]
  },
  {
   "cell_type": "markdown",
   "id": "875a1c35",
   "metadata": {
    "deletable": false,
    "editable": false,
    "tags": [
     "start_task"
    ]
   },
   "source": [
    "**Задание 14. Обработайте неявные дубликаты в столбце `education`. В этом столбце есть одни и те же значения, но записанные по-разному: с использованием заглавных и строчных букв. Приведите их к нижнему регистру. Проверьте остальные столбцы.**"
   ]
  },
  {
   "cell_type": "code",
   "execution_count": 64,
   "id": "c23436bd",
   "metadata": {},
   "outputs": [],
   "source": [
    "data['education'] = data['education'].str.lower() # ваш код здесь"
   ]
  },
  {
   "cell_type": "markdown",
   "id": "ee2e0acf",
   "metadata": {
    "deletable": false,
    "editable": false,
    "id": "dc587695",
    "tags": [
     "start_task"
    ]
   },
   "source": [
    "**Задание 15. Выведите на экран количество строк-дубликатов в данных. Если такие строки присутствуют, удалите их.**"
   ]
  },
  {
   "cell_type": "code",
   "execution_count": 65,
   "id": "ea48e9ec",
   "metadata": {
    "id": "3ee445e4"
   },
   "outputs": [
    {
     "name": "stdout",
     "output_type": "stream",
     "text": [
      "71\n"
     ]
    }
   ],
   "source": [
    "print(data.duplicated().sum()) # посчитайте дубликаты"
   ]
  },
  {
   "cell_type": "code",
   "execution_count": 66,
   "id": "e0b59b8e",
   "metadata": {
    "id": "8575fe05"
   },
   "outputs": [
    {
     "data": {
      "text/html": [
       "<div>\n",
       "<style scoped>\n",
       "    .dataframe tbody tr th:only-of-type {\n",
       "        vertical-align: middle;\n",
       "    }\n",
       "\n",
       "    .dataframe tbody tr th {\n",
       "        vertical-align: top;\n",
       "    }\n",
       "\n",
       "    .dataframe thead th {\n",
       "        text-align: right;\n",
       "    }\n",
       "</style>\n",
       "<table border=\"1\" class=\"dataframe\">\n",
       "  <thead>\n",
       "    <tr style=\"text-align: right;\">\n",
       "      <th></th>\n",
       "      <th>children</th>\n",
       "      <th>days_employed</th>\n",
       "      <th>dob_years</th>\n",
       "      <th>education</th>\n",
       "      <th>education_id</th>\n",
       "      <th>family_status</th>\n",
       "      <th>family_status_id</th>\n",
       "      <th>gender</th>\n",
       "      <th>income_type</th>\n",
       "      <th>debt</th>\n",
       "      <th>total_income</th>\n",
       "      <th>purpose</th>\n",
       "    </tr>\n",
       "  </thead>\n",
       "  <tbody>\n",
       "    <tr>\n",
       "      <th>0</th>\n",
       "      <td>1</td>\n",
       "      <td>8437.673028</td>\n",
       "      <td>42</td>\n",
       "      <td>высшее</td>\n",
       "      <td>0</td>\n",
       "      <td>женат / замужем</td>\n",
       "      <td>0</td>\n",
       "      <td>F</td>\n",
       "      <td>сотрудник</td>\n",
       "      <td>0</td>\n",
       "      <td>253875</td>\n",
       "      <td>покупка жилья</td>\n",
       "    </tr>\n",
       "    <tr>\n",
       "      <th>1</th>\n",
       "      <td>1</td>\n",
       "      <td>4024.803754</td>\n",
       "      <td>36</td>\n",
       "      <td>среднее</td>\n",
       "      <td>1</td>\n",
       "      <td>женат / замужем</td>\n",
       "      <td>0</td>\n",
       "      <td>F</td>\n",
       "      <td>сотрудник</td>\n",
       "      <td>0</td>\n",
       "      <td>112080</td>\n",
       "      <td>приобретение автомобиля</td>\n",
       "    </tr>\n",
       "    <tr>\n",
       "      <th>2</th>\n",
       "      <td>0</td>\n",
       "      <td>5623.422610</td>\n",
       "      <td>33</td>\n",
       "      <td>среднее</td>\n",
       "      <td>1</td>\n",
       "      <td>женат / замужем</td>\n",
       "      <td>0</td>\n",
       "      <td>M</td>\n",
       "      <td>сотрудник</td>\n",
       "      <td>0</td>\n",
       "      <td>145885</td>\n",
       "      <td>покупка жилья</td>\n",
       "    </tr>\n",
       "    <tr>\n",
       "      <th>3</th>\n",
       "      <td>3</td>\n",
       "      <td>4124.747207</td>\n",
       "      <td>32</td>\n",
       "      <td>среднее</td>\n",
       "      <td>1</td>\n",
       "      <td>женат / замужем</td>\n",
       "      <td>0</td>\n",
       "      <td>M</td>\n",
       "      <td>сотрудник</td>\n",
       "      <td>0</td>\n",
       "      <td>267628</td>\n",
       "      <td>дополнительное образование</td>\n",
       "    </tr>\n",
       "    <tr>\n",
       "      <th>4</th>\n",
       "      <td>0</td>\n",
       "      <td>340266.072047</td>\n",
       "      <td>53</td>\n",
       "      <td>среднее</td>\n",
       "      <td>1</td>\n",
       "      <td>гражданский брак</td>\n",
       "      <td>1</td>\n",
       "      <td>F</td>\n",
       "      <td>пенсионер</td>\n",
       "      <td>0</td>\n",
       "      <td>158616</td>\n",
       "      <td>сыграть свадьбу</td>\n",
       "    </tr>\n",
       "    <tr>\n",
       "      <th>...</th>\n",
       "      <td>...</td>\n",
       "      <td>...</td>\n",
       "      <td>...</td>\n",
       "      <td>...</td>\n",
       "      <td>...</td>\n",
       "      <td>...</td>\n",
       "      <td>...</td>\n",
       "      <td>...</td>\n",
       "      <td>...</td>\n",
       "      <td>...</td>\n",
       "      <td>...</td>\n",
       "      <td>...</td>\n",
       "    </tr>\n",
       "    <tr>\n",
       "      <th>21520</th>\n",
       "      <td>1</td>\n",
       "      <td>4529.316663</td>\n",
       "      <td>43</td>\n",
       "      <td>среднее</td>\n",
       "      <td>1</td>\n",
       "      <td>гражданский брак</td>\n",
       "      <td>1</td>\n",
       "      <td>F</td>\n",
       "      <td>компаньон</td>\n",
       "      <td>0</td>\n",
       "      <td>224791</td>\n",
       "      <td>операции с жильем</td>\n",
       "    </tr>\n",
       "    <tr>\n",
       "      <th>21521</th>\n",
       "      <td>0</td>\n",
       "      <td>343937.404131</td>\n",
       "      <td>67</td>\n",
       "      <td>среднее</td>\n",
       "      <td>1</td>\n",
       "      <td>женат / замужем</td>\n",
       "      <td>0</td>\n",
       "      <td>F</td>\n",
       "      <td>пенсионер</td>\n",
       "      <td>0</td>\n",
       "      <td>155999</td>\n",
       "      <td>сделка с автомобилем</td>\n",
       "    </tr>\n",
       "    <tr>\n",
       "      <th>21522</th>\n",
       "      <td>1</td>\n",
       "      <td>2113.346888</td>\n",
       "      <td>38</td>\n",
       "      <td>среднее</td>\n",
       "      <td>1</td>\n",
       "      <td>гражданский брак</td>\n",
       "      <td>1</td>\n",
       "      <td>M</td>\n",
       "      <td>сотрудник</td>\n",
       "      <td>1</td>\n",
       "      <td>89672</td>\n",
       "      <td>недвижимость</td>\n",
       "    </tr>\n",
       "    <tr>\n",
       "      <th>21523</th>\n",
       "      <td>3</td>\n",
       "      <td>3112.481705</td>\n",
       "      <td>38</td>\n",
       "      <td>среднее</td>\n",
       "      <td>1</td>\n",
       "      <td>женат / замужем</td>\n",
       "      <td>0</td>\n",
       "      <td>M</td>\n",
       "      <td>сотрудник</td>\n",
       "      <td>1</td>\n",
       "      <td>244093</td>\n",
       "      <td>на покупку своего автомобиля</td>\n",
       "    </tr>\n",
       "    <tr>\n",
       "      <th>21524</th>\n",
       "      <td>2</td>\n",
       "      <td>1984.507589</td>\n",
       "      <td>40</td>\n",
       "      <td>среднее</td>\n",
       "      <td>1</td>\n",
       "      <td>женат / замужем</td>\n",
       "      <td>0</td>\n",
       "      <td>F</td>\n",
       "      <td>сотрудник</td>\n",
       "      <td>0</td>\n",
       "      <td>82047</td>\n",
       "      <td>на покупку автомобиля</td>\n",
       "    </tr>\n",
       "  </tbody>\n",
       "</table>\n",
       "<p>21331 rows × 12 columns</p>\n",
       "</div>"
      ],
      "text/plain": [
       "       children  days_employed  dob_years education  education_id  \\\n",
       "0             1    8437.673028         42    высшее             0   \n",
       "1             1    4024.803754         36   среднее             1   \n",
       "2             0    5623.422610         33   среднее             1   \n",
       "3             3    4124.747207         32   среднее             1   \n",
       "4             0  340266.072047         53   среднее             1   \n",
       "...         ...            ...        ...       ...           ...   \n",
       "21520         1    4529.316663         43   среднее             1   \n",
       "21521         0  343937.404131         67   среднее             1   \n",
       "21522         1    2113.346888         38   среднее             1   \n",
       "21523         3    3112.481705         38   среднее             1   \n",
       "21524         2    1984.507589         40   среднее             1   \n",
       "\n",
       "          family_status  family_status_id gender income_type  debt  \\\n",
       "0       женат / замужем                 0      F   сотрудник     0   \n",
       "1       женат / замужем                 0      F   сотрудник     0   \n",
       "2       женат / замужем                 0      M   сотрудник     0   \n",
       "3       женат / замужем                 0      M   сотрудник     0   \n",
       "4      гражданский брак                 1      F   пенсионер     0   \n",
       "...                 ...               ...    ...         ...   ...   \n",
       "21520  гражданский брак                 1      F   компаньон     0   \n",
       "21521   женат / замужем                 0      F   пенсионер     0   \n",
       "21522  гражданский брак                 1      M   сотрудник     1   \n",
       "21523   женат / замужем                 0      M   сотрудник     1   \n",
       "21524   женат / замужем                 0      F   сотрудник     0   \n",
       "\n",
       "       total_income                       purpose  \n",
       "0            253875                 покупка жилья  \n",
       "1            112080       приобретение автомобиля  \n",
       "2            145885                 покупка жилья  \n",
       "3            267628    дополнительное образование  \n",
       "4            158616               сыграть свадьбу  \n",
       "...             ...                           ...  \n",
       "21520        224791             операции с жильем  \n",
       "21521        155999          сделка с автомобилем  \n",
       "21522         89672                  недвижимость  \n",
       "21523        244093  на покупку своего автомобиля  \n",
       "21524         82047         на покупку автомобиля  \n",
       "\n",
       "[21331 rows x 12 columns]"
      ]
     },
     "execution_count": 66,
     "metadata": {},
     "output_type": "execute_result"
    }
   ],
   "source": [
    "data.drop_duplicates()# удалите дубликаты"
   ]
  },
  {
   "cell_type": "markdown",
   "id": "21dc3d11",
   "metadata": {
    "deletable": false,
    "editable": false,
    "id": "9904cf55"
   },
   "source": [
    "### Категоризация данных"
   ]
  },
  {
   "cell_type": "markdown",
   "id": "dd78d496",
   "metadata": {
    "deletable": false,
    "editable": false,
    "id": "72fcc8a2",
    "tags": [
     "start_task"
    ]
   },
   "source": [
    "**Задание 16. На основании диапазонов, указанных ниже, создайте в датафрейме `data` столбец `total_income_category` с категориями:**\n",
    "\n",
    "- 0–30000 — `'E'`;\n",
    "- 30001–50000 — `'D'`;\n",
    "- 50001–200000 — `'C'`;\n",
    "- 200001–1000000 — `'B'`;\n",
    "- 1000001 и выше — `'A'`.\n",
    "\n",
    "\n",
    "**Например, кредитополучателю с доходом 25000 нужно назначить категорию `'E'`, а клиенту, получающему 235000, — `'B'`. Используйте собственную функцию с именем `categorize_income()` и метод `apply()`.**"
   ]
  },
  {
   "cell_type": "code",
   "execution_count": 67,
   "id": "5dcf1d21",
   "metadata": {
    "id": "e1771346"
   },
   "outputs": [],
   "source": [
    "def categorize_income(income):\n",
    "    try:\n",
    "        if 0 <= income <= 30000:\n",
    "            return 'E'\n",
    "        elif 30001 <= income <= 50000:\n",
    "            return 'D'\n",
    "        elif 50001 <= income <= 200000:\n",
    "            return 'C'\n",
    "        elif 200001 <= income <= 1000000:\n",
    "            return 'B'\n",
    "        elif income >= 1000001:\n",
    "            return 'A'\n",
    "    except:\n",
    "        pass"
   ]
  },
  {
   "cell_type": "code",
   "execution_count": 68,
   "id": "b487db4f",
   "metadata": {
    "id": "d5f3586d"
   },
   "outputs": [],
   "source": [
    "data['total_income_category'] = data['total_income'].apply(categorize_income)# примените функцию методом apply()"
   ]
  },
  {
   "cell_type": "markdown",
   "id": "98c478ce",
   "metadata": {
    "deletable": false,
    "editable": false,
    "id": "dde49b5c",
    "tags": [
     "start_task"
    ]
   },
   "source": [
    "**Задание 17. Выведите на экран перечень уникальных целей взятия кредита из столбца `purpose`.**"
   ]
  },
  {
   "cell_type": "code",
   "execution_count": 69,
   "id": "ecdea81d",
   "metadata": {
    "id": "f67ce9b3"
   },
   "outputs": [
    {
     "data": {
      "text/plain": [
       "array(['покупка жилья', 'приобретение автомобиля',\n",
       "       'дополнительное образование', 'сыграть свадьбу',\n",
       "       'операции с жильем', 'образование', 'на проведение свадьбы',\n",
       "       'покупка жилья для семьи', 'покупка недвижимости',\n",
       "       'покупка коммерческой недвижимости', 'покупка жилой недвижимости',\n",
       "       'строительство собственной недвижимости', 'недвижимость',\n",
       "       'строительство недвижимости', 'на покупку подержанного автомобиля',\n",
       "       'на покупку своего автомобиля',\n",
       "       'операции с коммерческой недвижимостью',\n",
       "       'строительство жилой недвижимости', 'жилье',\n",
       "       'операции со своей недвижимостью', 'автомобили',\n",
       "       'заняться образованием', 'сделка с подержанным автомобилем',\n",
       "       'получение образования', 'автомобиль', 'свадьба',\n",
       "       'получение дополнительного образования', 'покупка своего жилья',\n",
       "       'операции с недвижимостью', 'получение высшего образования',\n",
       "       'свой автомобиль', 'сделка с автомобилем',\n",
       "       'профильное образование', 'высшее образование',\n",
       "       'покупка жилья для сдачи', 'на покупку автомобиля', 'ремонт жилью',\n",
       "       'заняться высшим образованием'], dtype=object)"
      ]
     },
     "execution_count": 69,
     "metadata": {},
     "output_type": "execute_result"
    }
   ],
   "source": [
    "data['purpose'].unique() # ваш код здесь"
   ]
  },
  {
   "cell_type": "markdown",
   "id": "cbf686d3",
   "metadata": {
    "deletable": false,
    "editable": false,
    "id": "85d0aef0",
    "tags": [
     "start_task"
    ]
   },
   "source": [
    "**Задание 18. Создайте функцию, которая на основании данных из столбца `purpose` сформирует новый столбец `purpose_category`, в который войдут следующие категории:**\n",
    "\n",
    "- `'операции с автомобилем'`,\n",
    "- `'операции с недвижимостью'`,\n",
    "- `'проведение свадьбы'`,\n",
    "- `'получение образования'`.\n",
    "\n",
    "**Например, если в столбце `purpose` находится подстрока `'на покупку автомобиля'`, то в столбце `purpose_category` должна появиться строка `'операции с автомобилем'`.**\n",
    "\n",
    "**Используйте собственную функцию с именем `categorize_purpose()` и метод `apply()`. Изучите данные в столбце `purpose` и определите, какие подстроки помогут вам правильно определить категорию.**"
   ]
  },
  {
   "cell_type": "code",
   "execution_count": 77,
   "id": "28f59ed0",
   "metadata": {
    "id": "e149fab4"
   },
   "outputs": [],
   "source": [
    "def categorize_purpose (purpose):\n",
    "    try:\n",
    "        if 'авто' in purpose:\n",
    "            return 'операции с автомобилем'\n",
    "        elif 'свадьб' in purpose:\n",
    "            return 'проведение свадьбы'\n",
    "        elif 'образовани' in purpose:\n",
    "            return 'получение образования'\n",
    "        elif 'недвиж'in purpose or 'жиль' in purpose:\n",
    "            return 'операции с недвижимостью'\n",
    "    except:\n",
    "        pass # создайте функцию categorize_purpose()"
   ]
  },
  {
   "cell_type": "code",
   "execution_count": 78,
   "id": "37a006c2",
   "metadata": {
    "id": "bf36e69b"
   },
   "outputs": [],
   "source": [
    "data['purpose_category'] = data['purpose'].apply(categorize_purpose)\n",
    "# примените функцию методом apply()"
   ]
  },
  {
   "cell_type": "code",
   "execution_count": 79,
   "id": "d7ea7604",
   "metadata": {},
   "outputs": [
    {
     "name": "stdout",
     "output_type": "stream",
     "text": [
      "   children  days_employed  dob_years education  education_id  \\\n",
      "0         1    8437.673028         42    высшее             0   \n",
      "1         1    4024.803754         36   среднее             1   \n",
      "2         0    5623.422610         33   среднее             1   \n",
      "3         3    4124.747207         32   среднее             1   \n",
      "4         0  340266.072047         53   среднее             1   \n",
      "\n",
      "      family_status  family_status_id gender income_type  debt  total_income  \\\n",
      "0   женат / замужем                 0      F   сотрудник     0        253875   \n",
      "1   женат / замужем                 0      F   сотрудник     0        112080   \n",
      "2   женат / замужем                 0      M   сотрудник     0        145885   \n",
      "3   женат / замужем                 0      M   сотрудник     0        267628   \n",
      "4  гражданский брак                 1      F   пенсионер     0        158616   \n",
      "\n",
      "                      purpose total_income_category          purpose_category  \n",
      "0               покупка жилья                     B  операции с недвижимостью  \n",
      "1     приобретение автомобиля                     C    операции с автомобилем  \n",
      "2               покупка жилья                     C  операции с недвижимостью  \n",
      "3  дополнительное образование                     B     получение образования  \n",
      "4             сыграть свадьбу                     C        проведение свадьбы  \n"
     ]
    }
   ],
   "source": [
    "print(data.head())"
   ]
  },
  {
   "cell_type": "code",
   "execution_count": null,
   "id": "690bce3f",
   "metadata": {},
   "outputs": [],
   "source": []
  }
 ],
 "metadata": {
  "ExecuteTimeLog": [
   {
    "duration": 51,
    "start_time": "2022-10-12T12:43:07.846Z"
   },
   {
    "duration": 463,
    "start_time": "2022-10-12T12:43:12.250Z"
   },
   {
    "duration": 315,
    "start_time": "2022-10-12T12:43:12.763Z"
   },
   {
    "duration": 13,
    "start_time": "2022-10-12T12:43:14.386Z"
   },
   {
    "duration": 14,
    "start_time": "2022-10-12T12:44:03.659Z"
   },
   {
    "duration": 9,
    "start_time": "2022-10-12T12:46:07.725Z"
   },
   {
    "duration": 5,
    "start_time": "2022-10-12T13:11:09.594Z"
   },
   {
    "duration": 56,
    "start_time": "2022-10-12T13:36:36.226Z"
   },
   {
    "duration": 4,
    "start_time": "2022-10-12T13:36:42.682Z"
   },
   {
    "duration": 45,
    "start_time": "2022-10-12T13:37:03.112Z"
   },
   {
    "duration": 8,
    "start_time": "2022-10-12T13:37:32.845Z"
   },
   {
    "duration": 930,
    "start_time": "2022-10-12T13:38:01.746Z"
   },
   {
    "duration": 1056,
    "start_time": "2022-10-12T13:40:30.576Z"
   },
   {
    "duration": 1313,
    "start_time": "2022-10-12T13:40:44.432Z"
   },
   {
    "duration": 3,
    "start_time": "2022-10-12T13:42:14.264Z"
   },
   {
    "duration": 19,
    "start_time": "2022-10-12T13:42:14.793Z"
   },
   {
    "duration": 18,
    "start_time": "2022-10-12T13:42:39.110Z"
   },
   {
    "duration": 17,
    "start_time": "2022-10-12T13:43:23.173Z"
   },
   {
    "duration": 8,
    "start_time": "2022-10-12T13:43:26.441Z"
   },
   {
    "duration": 15,
    "start_time": "2022-10-12T13:43:29.853Z"
   },
   {
    "duration": 9,
    "start_time": "2022-10-12T13:43:34.402Z"
   },
   {
    "duration": 719,
    "start_time": "2022-10-12T13:43:39.057Z"
   },
   {
    "duration": 53,
    "start_time": "2022-10-12T13:44:52.314Z"
   },
   {
    "duration": 368,
    "start_time": "2022-10-12T13:44:57.349Z"
   },
   {
    "duration": 42,
    "start_time": "2022-10-12T13:44:58.538Z"
   },
   {
    "duration": 7,
    "start_time": "2022-10-12T15:32:24.318Z"
   },
   {
    "duration": 7,
    "start_time": "2022-10-12T15:33:00.490Z"
   },
   {
    "duration": 8,
    "start_time": "2022-10-12T15:33:05.070Z"
   },
   {
    "duration": 2,
    "start_time": "2022-10-12T15:34:19.270Z"
   },
   {
    "duration": 65,
    "start_time": "2022-10-12T15:34:20.549Z"
   },
   {
    "duration": 10,
    "start_time": "2022-10-12T15:34:23.273Z"
   },
   {
    "duration": 15,
    "start_time": "2022-10-12T15:34:26.004Z"
   },
   {
    "duration": 9,
    "start_time": "2022-10-12T15:34:32.870Z"
   },
   {
    "duration": 1521,
    "start_time": "2022-10-12T15:38:10.562Z"
   },
   {
    "duration": 1464,
    "start_time": "2022-10-12T15:38:37.868Z"
   },
   {
    "duration": 4,
    "start_time": "2022-10-12T15:50:53.495Z"
   },
   {
    "duration": 4,
    "start_time": "2022-10-12T15:51:07.893Z"
   },
   {
    "duration": 3,
    "start_time": "2022-10-12T15:51:36.285Z"
   },
   {
    "duration": 4,
    "start_time": "2022-10-12T15:52:06.685Z"
   },
   {
    "duration": 32,
    "start_time": "2022-10-12T15:52:37.859Z"
   },
   {
    "duration": 13,
    "start_time": "2022-10-12T16:06:46.508Z"
   },
   {
    "duration": 1679,
    "start_time": "2022-10-12T16:08:14.517Z"
   },
   {
    "duration": 4,
    "start_time": "2022-10-12T16:08:30.381Z"
   },
   {
    "duration": 4,
    "start_time": "2022-10-12T16:08:33.945Z"
   },
   {
    "duration": 20,
    "start_time": "2022-10-12T16:34:42.468Z"
   },
   {
    "duration": 772,
    "start_time": "2022-10-12T16:37:29.837Z"
   },
   {
    "duration": 11,
    "start_time": "2022-10-12T16:39:03.097Z"
   },
   {
    "duration": 9,
    "start_time": "2022-10-12T16:39:10.888Z"
   },
   {
    "duration": 13,
    "start_time": "2022-10-12T16:39:14.155Z"
   },
   {
    "duration": 59,
    "start_time": "2022-10-12T16:40:00.655Z"
   },
   {
    "duration": 9,
    "start_time": "2022-10-12T16:41:08.091Z"
   },
   {
    "duration": 9,
    "start_time": "2022-10-12T16:41:22.247Z"
   },
   {
    "duration": 18,
    "start_time": "2022-10-12T16:51:26.954Z"
   },
   {
    "duration": 15,
    "start_time": "2022-10-12T16:52:19.597Z"
   },
   {
    "duration": 9,
    "start_time": "2022-10-12T17:06:11.574Z"
   },
   {
    "duration": 8,
    "start_time": "2022-10-12T17:06:23.958Z"
   },
   {
    "duration": 54,
    "start_time": "2022-10-12T17:06:52.872Z"
   },
   {
    "duration": 428,
    "start_time": "2022-10-12T17:07:08.588Z"
   },
   {
    "duration": 61,
    "start_time": "2022-10-12T17:07:09.115Z"
   },
   {
    "duration": 10,
    "start_time": "2022-10-12T17:07:09.622Z"
   },
   {
    "duration": 15,
    "start_time": "2022-10-12T17:07:10.099Z"
   },
   {
    "duration": 8,
    "start_time": "2022-10-12T17:07:11.061Z"
   },
   {
    "duration": 34,
    "start_time": "2022-10-12T17:07:11.558Z"
   },
   {
    "duration": 4,
    "start_time": "2022-10-12T17:07:13.365Z"
   },
   {
    "duration": 9,
    "start_time": "2022-10-12T17:07:15.518Z"
   },
   {
    "duration": 4,
    "start_time": "2022-10-12T17:10:10.526Z"
   },
   {
    "duration": 5,
    "start_time": "2022-10-12T17:17:52.745Z"
   },
   {
    "duration": 51,
    "start_time": "2022-10-12T17:18:28.564Z"
   },
   {
    "duration": 414,
    "start_time": "2022-10-12T17:18:33.992Z"
   },
   {
    "duration": 59,
    "start_time": "2022-10-12T17:18:34.487Z"
   },
   {
    "duration": 10,
    "start_time": "2022-10-12T17:18:35.316Z"
   },
   {
    "duration": 14,
    "start_time": "2022-10-12T17:18:36.263Z"
   },
   {
    "duration": 8,
    "start_time": "2022-10-12T17:18:37.971Z"
   },
   {
    "duration": 31,
    "start_time": "2022-10-12T17:18:38.972Z"
   },
   {
    "duration": 4,
    "start_time": "2022-10-12T17:18:40.425Z"
   },
   {
    "duration": 7,
    "start_time": "2022-10-12T17:18:41.393Z"
   },
   {
    "duration": 4,
    "start_time": "2022-10-12T17:18:43.419Z"
   },
   {
    "duration": 5,
    "start_time": "2022-10-12T17:18:44.950Z"
   },
   {
    "duration": 35,
    "start_time": "2022-10-12T17:22:48.304Z"
   },
   {
    "duration": 3,
    "start_time": "2022-10-12T17:24:13.900Z"
   },
   {
    "duration": 60,
    "start_time": "2022-10-12T17:24:14.221Z"
   },
   {
    "duration": 9,
    "start_time": "2022-10-12T17:24:14.665Z"
   },
   {
    "duration": 15,
    "start_time": "2022-10-12T17:24:15.096Z"
   },
   {
    "duration": 9,
    "start_time": "2022-10-12T17:24:16.004Z"
   },
   {
    "duration": 31,
    "start_time": "2022-10-12T17:24:16.460Z"
   },
   {
    "duration": 4,
    "start_time": "2022-10-12T17:24:17.241Z"
   },
   {
    "duration": 7,
    "start_time": "2022-10-12T17:24:17.931Z"
   },
   {
    "duration": 4,
    "start_time": "2022-10-12T17:24:19.411Z"
   },
   {
    "duration": 5,
    "start_time": "2022-10-12T17:24:21.153Z"
   },
   {
    "duration": 4,
    "start_time": "2022-10-12T17:24:49.874Z"
   },
   {
    "duration": 31,
    "start_time": "2022-10-12T17:27:30.277Z"
   },
   {
    "duration": 33,
    "start_time": "2022-10-12T17:29:08.046Z"
   },
   {
    "duration": 8,
    "start_time": "2022-10-12T17:30:04.766Z"
   },
   {
    "duration": 10,
    "start_time": "2022-10-12T17:35:50.506Z"
   },
   {
    "duration": 10,
    "start_time": "2022-10-12T17:49:58.415Z"
   },
   {
    "duration": 8,
    "start_time": "2022-10-12T17:50:37.885Z"
   },
   {
    "duration": 18,
    "start_time": "2022-10-12T17:52:38.913Z"
   },
   {
    "duration": 10,
    "start_time": "2022-10-12T17:54:23.838Z"
   },
   {
    "duration": 8,
    "start_time": "2022-10-12T17:54:46.943Z"
   },
   {
    "duration": 5,
    "start_time": "2022-10-12T17:59:13.932Z"
   },
   {
    "duration": 19,
    "start_time": "2022-10-12T18:07:53.998Z"
   },
   {
    "duration": 18,
    "start_time": "2022-10-12T18:08:51.044Z"
   },
   {
    "duration": 41,
    "start_time": "2022-10-12T18:09:10.665Z"
   },
   {
    "duration": 7,
    "start_time": "2022-10-12T18:26:28.578Z"
   },
   {
    "duration": 3,
    "start_time": "2022-10-12T18:26:41.482Z"
   },
   {
    "duration": 20,
    "start_time": "2022-10-12T18:26:42.341Z"
   },
   {
    "duration": 3,
    "start_time": "2022-10-12T18:27:16.704Z"
   },
   {
    "duration": 77,
    "start_time": "2022-10-12T18:27:17.087Z"
   },
   {
    "duration": 12,
    "start_time": "2022-10-12T18:27:17.553Z"
   },
   {
    "duration": 14,
    "start_time": "2022-10-12T18:27:18.020Z"
   },
   {
    "duration": 15,
    "start_time": "2022-10-12T18:27:18.933Z"
   },
   {
    "duration": 52,
    "start_time": "2022-10-12T18:27:19.413Z"
   },
   {
    "duration": 4,
    "start_time": "2022-10-12T18:27:20.256Z"
   },
   {
    "duration": 8,
    "start_time": "2022-10-12T18:27:21.044Z"
   },
   {
    "duration": 4,
    "start_time": "2022-10-12T18:27:22.072Z"
   },
   {
    "duration": 9,
    "start_time": "2022-10-12T18:27:22.775Z"
   },
   {
    "duration": 4,
    "start_time": "2022-10-12T18:27:23.662Z"
   },
   {
    "duration": 32,
    "start_time": "2022-10-12T18:27:25.253Z"
   },
   {
    "duration": 8,
    "start_time": "2022-10-12T18:27:26.181Z"
   },
   {
    "duration": 4,
    "start_time": "2022-10-12T18:27:27.788Z"
   },
   {
    "duration": 14,
    "start_time": "2022-10-12T18:27:31.351Z"
   },
   {
    "duration": 19,
    "start_time": "2022-10-12T18:27:32.886Z"
   },
   {
    "duration": 32,
    "start_time": "2022-10-12T18:27:33.980Z"
   },
   {
    "duration": 4,
    "start_time": "2022-10-12T18:27:37.552Z"
   },
   {
    "duration": 10,
    "start_time": "2022-10-12T18:27:38.736Z"
   },
   {
    "duration": 10,
    "start_time": "2022-10-12T18:28:37.226Z"
   },
   {
    "duration": 366,
    "start_time": "2022-10-12T18:29:34.255Z"
   },
   {
    "duration": 63,
    "start_time": "2022-10-12T18:29:34.623Z"
   },
   {
    "duration": 11,
    "start_time": "2022-10-12T18:29:34.688Z"
   },
   {
    "duration": 18,
    "start_time": "2022-10-12T18:29:34.709Z"
   },
   {
    "duration": 26,
    "start_time": "2022-10-12T18:29:34.730Z"
   },
   {
    "duration": 67,
    "start_time": "2022-10-12T18:29:34.758Z"
   },
   {
    "duration": 5,
    "start_time": "2022-10-12T18:29:34.828Z"
   },
   {
    "duration": 31,
    "start_time": "2022-10-12T18:29:34.836Z"
   },
   {
    "duration": 11,
    "start_time": "2022-10-12T18:29:34.869Z"
   },
   {
    "duration": 24,
    "start_time": "2022-10-12T18:29:34.881Z"
   },
   {
    "duration": 23,
    "start_time": "2022-10-12T18:29:34.907Z"
   },
   {
    "duration": 47,
    "start_time": "2022-10-12T18:29:34.932Z"
   },
   {
    "duration": 8,
    "start_time": "2022-10-12T18:29:34.981Z"
   },
   {
    "duration": 23,
    "start_time": "2022-10-12T18:29:34.991Z"
   },
   {
    "duration": 31,
    "start_time": "2022-10-12T18:29:35.016Z"
   },
   {
    "duration": 36,
    "start_time": "2022-10-12T18:29:35.049Z"
   },
   {
    "duration": 61,
    "start_time": "2022-10-12T18:29:35.087Z"
   },
   {
    "duration": 5,
    "start_time": "2022-10-12T18:29:35.150Z"
   },
   {
    "duration": 24,
    "start_time": "2022-10-12T18:29:35.157Z"
   },
   {
    "duration": 21,
    "start_time": "2022-10-12T18:29:35.183Z"
   },
   {
    "duration": 17,
    "start_time": "2022-10-12T18:29:35.206Z"
   },
   {
    "duration": 9,
    "start_time": "2022-10-12T18:29:35.225Z"
   },
   {
    "duration": 4,
    "start_time": "2022-10-12T18:35:01.886Z"
   },
   {
    "duration": 10,
    "start_time": "2022-10-12T18:35:03.201Z"
   },
   {
    "duration": 3,
    "start_time": "2022-10-12T18:37:28.914Z"
   },
   {
    "duration": 11,
    "start_time": "2022-10-12T18:37:30.287Z"
   },
   {
    "duration": 10,
    "start_time": "2022-10-12T18:38:37.442Z"
   },
   {
    "duration": 9,
    "start_time": "2022-10-13T20:25:40.623Z"
   },
   {
    "duration": 72,
    "start_time": "2022-10-13T20:25:41.869Z"
   },
   {
    "duration": 457,
    "start_time": "2022-10-13T20:25:51.040Z"
   },
   {
    "duration": 396,
    "start_time": "2022-10-13T20:25:51.500Z"
   },
   {
    "duration": 18,
    "start_time": "2022-10-13T20:25:51.899Z"
   },
   {
    "duration": 17,
    "start_time": "2022-10-13T20:25:52.220Z"
   },
   {
    "duration": 14,
    "start_time": "2022-10-13T20:25:53.052Z"
   },
   {
    "duration": 57,
    "start_time": "2022-10-13T20:25:53.480Z"
   },
   {
    "duration": 4,
    "start_time": "2022-10-13T20:25:54.119Z"
   },
   {
    "duration": 7,
    "start_time": "2022-10-13T20:25:54.536Z"
   },
   {
    "duration": 5,
    "start_time": "2022-10-13T20:25:55.218Z"
   },
   {
    "duration": 10,
    "start_time": "2022-10-13T20:25:55.806Z"
   },
   {
    "duration": 5,
    "start_time": "2022-10-13T20:25:57.018Z"
   },
   {
    "duration": 47,
    "start_time": "2022-10-13T20:25:58.743Z"
   },
   {
    "duration": 14,
    "start_time": "2022-10-13T20:25:59.812Z"
   },
   {
    "duration": 5,
    "start_time": "2022-10-13T20:26:02.073Z"
   },
   {
    "duration": 13,
    "start_time": "2022-10-13T20:26:03.472Z"
   },
   {
    "duration": 21,
    "start_time": "2022-10-13T20:26:04.922Z"
   },
   {
    "duration": 40,
    "start_time": "2022-10-13T20:26:05.842Z"
   },
   {
    "duration": 6,
    "start_time": "2022-10-13T20:26:08.516Z"
   },
   {
    "duration": 11,
    "start_time": "2022-10-13T20:26:09.856Z"
   },
   {
    "duration": 6,
    "start_time": "2022-10-13T20:26:11.241Z"
   },
   {
    "duration": 3,
    "start_time": "2022-10-13T20:26:12.872Z"
   },
   {
    "duration": 14,
    "start_time": "2022-10-13T20:26:13.824Z"
   },
   {
    "duration": 12,
    "start_time": "2022-10-13T20:26:24.422Z"
   },
   {
    "duration": 36,
    "start_time": "2022-10-13T20:26:56.410Z"
   },
   {
    "duration": 11,
    "start_time": "2022-10-13T20:27:11.320Z"
   },
   {
    "duration": 12,
    "start_time": "2022-10-13T20:27:38.819Z"
   },
   {
    "duration": 20,
    "start_time": "2022-10-13T20:27:51.772Z"
   },
   {
    "duration": 4,
    "start_time": "2022-10-13T20:29:59.356Z"
   },
   {
    "duration": 4,
    "start_time": "2022-10-13T20:30:08.400Z"
   },
   {
    "duration": 20,
    "start_time": "2022-10-13T20:30:09.266Z"
   },
   {
    "duration": 433,
    "start_time": "2022-10-13T20:30:46.124Z"
   },
   {
    "duration": 89,
    "start_time": "2022-10-13T20:30:46.559Z"
   },
   {
    "duration": 11,
    "start_time": "2022-10-13T20:30:46.650Z"
   },
   {
    "duration": 34,
    "start_time": "2022-10-13T20:30:46.664Z"
   },
   {
    "duration": 14,
    "start_time": "2022-10-13T20:30:46.701Z"
   },
   {
    "duration": 53,
    "start_time": "2022-10-13T20:30:46.717Z"
   },
   {
    "duration": 4,
    "start_time": "2022-10-13T20:30:46.772Z"
   },
   {
    "duration": 22,
    "start_time": "2022-10-13T20:30:46.790Z"
   },
   {
    "duration": 32,
    "start_time": "2022-10-13T20:30:46.814Z"
   },
   {
    "duration": 36,
    "start_time": "2022-10-13T20:30:46.848Z"
   },
   {
    "duration": 26,
    "start_time": "2022-10-13T20:30:46.886Z"
   },
   {
    "duration": 74,
    "start_time": "2022-10-13T20:30:46.914Z"
   },
   {
    "duration": 16,
    "start_time": "2022-10-13T20:30:46.991Z"
   },
   {
    "duration": 5,
    "start_time": "2022-10-13T20:30:47.011Z"
   },
   {
    "duration": 41,
    "start_time": "2022-10-13T20:30:47.018Z"
   },
   {
    "duration": 50,
    "start_time": "2022-10-13T20:30:47.062Z"
   },
   {
    "duration": 54,
    "start_time": "2022-10-13T20:30:47.114Z"
   },
   {
    "duration": 5,
    "start_time": "2022-10-13T20:30:47.169Z"
   },
   {
    "duration": 33,
    "start_time": "2022-10-13T20:30:47.176Z"
   },
   {
    "duration": 42,
    "start_time": "2022-10-13T20:30:47.211Z"
   },
   {
    "duration": 8,
    "start_time": "2022-10-13T20:30:47.255Z"
   },
   {
    "duration": 41,
    "start_time": "2022-10-13T20:30:47.265Z"
   },
   {
    "duration": 5,
    "start_time": "2022-10-13T20:36:38.623Z"
   },
   {
    "duration": 21,
    "start_time": "2022-10-13T20:36:40.474Z"
   },
   {
    "duration": 3,
    "start_time": "2022-10-13T20:36:59.741Z"
   },
   {
    "duration": 111,
    "start_time": "2022-10-13T20:37:00.124Z"
   },
   {
    "duration": 13,
    "start_time": "2022-10-13T20:37:00.637Z"
   },
   {
    "duration": 27,
    "start_time": "2022-10-13T20:37:01.122Z"
   },
   {
    "duration": 18,
    "start_time": "2022-10-13T20:37:02.054Z"
   },
   {
    "duration": 58,
    "start_time": "2022-10-13T20:37:02.522Z"
   },
   {
    "duration": 5,
    "start_time": "2022-10-13T20:37:03.218Z"
   },
   {
    "duration": 11,
    "start_time": "2022-10-13T20:37:03.698Z"
   },
   {
    "duration": 5,
    "start_time": "2022-10-13T20:37:04.676Z"
   },
   {
    "duration": 8,
    "start_time": "2022-10-13T20:37:05.145Z"
   },
   {
    "duration": 5,
    "start_time": "2022-10-13T20:37:05.658Z"
   },
   {
    "duration": 43,
    "start_time": "2022-10-13T20:37:06.368Z"
   },
   {
    "duration": 11,
    "start_time": "2022-10-13T20:37:06.902Z"
   },
   {
    "duration": 4,
    "start_time": "2022-10-13T20:37:07.652Z"
   },
   {
    "duration": 13,
    "start_time": "2022-10-13T20:37:08.449Z"
   },
   {
    "duration": 23,
    "start_time": "2022-10-13T20:37:09.417Z"
   },
   {
    "duration": 51,
    "start_time": "2022-10-13T20:37:09.822Z"
   },
   {
    "duration": 4,
    "start_time": "2022-10-13T20:37:11.275Z"
   },
   {
    "duration": 20,
    "start_time": "2022-10-13T20:37:12.015Z"
   },
   {
    "duration": 7,
    "start_time": "2022-10-13T20:37:12.900Z"
   },
   {
    "duration": 4,
    "start_time": "2022-10-13T20:37:13.968Z"
   },
   {
    "duration": 21,
    "start_time": "2022-10-13T20:37:16.110Z"
   },
   {
    "duration": 4,
    "start_time": "2022-10-13T20:38:17.791Z"
   },
   {
    "duration": 5,
    "start_time": "2022-10-13T20:38:24.789Z"
   },
   {
    "duration": 5,
    "start_time": "2022-10-13T20:41:07.288Z"
   },
   {
    "duration": 4,
    "start_time": "2022-10-13T20:41:14.739Z"
   },
   {
    "duration": 81,
    "start_time": "2022-10-13T20:41:15.154Z"
   },
   {
    "duration": 14,
    "start_time": "2022-10-13T20:41:15.636Z"
   },
   {
    "duration": 18,
    "start_time": "2022-10-13T20:41:16.153Z"
   },
   {
    "duration": 11,
    "start_time": "2022-10-13T20:41:17.098Z"
   },
   {
    "duration": 39,
    "start_time": "2022-10-13T20:41:17.508Z"
   },
   {
    "duration": 5,
    "start_time": "2022-10-13T20:41:18.236Z"
   },
   {
    "duration": 7,
    "start_time": "2022-10-13T20:41:18.662Z"
   },
   {
    "duration": 4,
    "start_time": "2022-10-13T20:41:19.367Z"
   },
   {
    "duration": 8,
    "start_time": "2022-10-13T20:41:19.904Z"
   },
   {
    "duration": 5,
    "start_time": "2022-10-13T20:41:20.453Z"
   },
   {
    "duration": 37,
    "start_time": "2022-10-13T20:41:21.198Z"
   },
   {
    "duration": 15,
    "start_time": "2022-10-13T20:41:21.962Z"
   },
   {
    "duration": 5,
    "start_time": "2022-10-13T20:41:23.017Z"
   },
   {
    "duration": 19,
    "start_time": "2022-10-13T20:41:24.050Z"
   },
   {
    "duration": 23,
    "start_time": "2022-10-13T20:41:24.817Z"
   },
   {
    "duration": 38,
    "start_time": "2022-10-13T20:41:25.286Z"
   },
   {
    "duration": 4,
    "start_time": "2022-10-13T20:41:27.239Z"
   },
   {
    "duration": 15,
    "start_time": "2022-10-13T20:41:28.339Z"
   },
   {
    "duration": 9,
    "start_time": "2022-10-13T20:41:30.189Z"
   },
   {
    "duration": 3,
    "start_time": "2022-10-13T20:41:31.721Z"
   },
   {
    "duration": 3,
    "start_time": "2022-10-13T20:57:05.976Z"
   },
   {
    "duration": 9,
    "start_time": "2022-10-13T20:57:06.962Z"
   },
   {
    "duration": 8,
    "start_time": "2022-10-13T20:57:28.452Z"
   },
   {
    "duration": 3,
    "start_time": "2022-10-13T20:57:43.756Z"
   },
   {
    "duration": 9,
    "start_time": "2022-10-13T20:57:44.469Z"
   },
   {
    "duration": 10,
    "start_time": "2022-10-13T20:57:45.394Z"
   }
  ],
  "colab": {
   "name": "dpp_template_part1.ipynb",
   "provenance": []
  },
  "kernelspec": {
   "display_name": "Python 3 (ipykernel)",
   "language": "python",
   "name": "python3"
  },
  "language_info": {
   "codemirror_mode": {
    "name": "ipython",
    "version": 3
   },
   "file_extension": ".py",
   "mimetype": "text/x-python",
   "name": "python",
   "nbconvert_exporter": "python",
   "pygments_lexer": "ipython3",
   "version": "3.9.5"
  },
  "toc": {
   "base_numbering": 1,
   "nav_menu": {},
   "number_sections": true,
   "sideBar": true,
   "skip_h1_title": true,
   "title_cell": "Table of Contents",
   "title_sidebar": "Contents",
   "toc_cell": false,
   "toc_position": {},
   "toc_section_display": true,
   "toc_window_display": false
  }
 },
 "nbformat": 4,
 "nbformat_minor": 5
}
